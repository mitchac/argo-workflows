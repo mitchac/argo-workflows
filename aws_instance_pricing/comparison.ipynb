{
 "cells": [
  {
   "cell_type": "code",
   "execution_count": 1,
   "metadata": {},
   "outputs": [],
   "source": [
    "library(data.table)"
   ]
  },
  {
   "cell_type": "code",
   "execution_count": 5,
   "metadata": {},
   "outputs": [
    {
     "name": "stderr",
     "output_type": "stream",
     "text": [
      "Warning message in eval(jsub, SDenv, parent.frame()):\n",
      "“NAs introduced by coercion”\n"
     ]
    },
    {
     "data": {
      "text/html": [
       "<table class=\"dataframe\">\n",
       "<caption>A data.table: 3 × 9</caption>\n",
       "<thead>\n",
       "\t<tr><th scope=col>Instance</th><th scope=col>vCPU*</th><th scope=col>CPU Credits/hour</th><th scope=col>Mem (GiB)</th><th scope=col>Storage</th><th scope=col>Network Performance (Gbps)***</th><th scope=col>EBS Bandwidth (Gbps)</th><th scope=col>Processor</th><th scope=col>cpu</th></tr>\n",
       "\t<tr><th scope=col>&lt;chr&gt;</th><th scope=col>&lt;chr&gt;</th><th scope=col>&lt;int&gt;</th><th scope=col>&lt;dbl&gt;</th><th scope=col>&lt;chr&gt;</th><th scope=col>&lt;chr&gt;</th><th scope=col>&lt;chr&gt;</th><th scope=col>&lt;chr&gt;</th><th scope=col>&lt;dbl&gt;</th></tr>\n",
       "</thead>\n",
       "<tbody>\n",
       "\t<tr><td>t3.nano </td><td>2</td><td> 6</td><td>0.5</td><td>EBS-Only</td><td>Up to 5</td><td></td><td>Up to 3.1 GHz Intel Xeon Platinum Processor, Intel AVX†, Intel AVX2†, Intel Turbo</td><td>2</td></tr>\n",
       "\t<tr><td>t3.micro</td><td>2</td><td>12</td><td>1.0</td><td>EBS-Only</td><td>Up to 5</td><td></td><td>Up to 3.1 GHz Intel Xeon Platinum Processor, Intel AVX†, Intel AVX2†, Intel Turbo</td><td>2</td></tr>\n",
       "\t<tr><td>t3.small</td><td>2</td><td>24</td><td>2.0</td><td>EBS-Only</td><td>Up to 5</td><td></td><td>Up to 3.1 GHz Intel Xeon Platinum Processor, Intel AVX†, Intel AVX2†, Intel Turbo</td><td>2</td></tr>\n",
       "</tbody>\n",
       "</table>\n"
      ],
      "text/latex": [
       "A data.table: 3 × 9\n",
       "\\begin{tabular}{lllllllll}\n",
       " Instance & vCPU* & CPU Credits/hour & Mem (GiB) & Storage & Network Performance (Gbps)*** & EBS Bandwidth (Gbps) & Processor & cpu\\\\\n",
       " <chr> & <chr> & <int> & <dbl> & <chr> & <chr> & <chr> & <chr> & <dbl>\\\\\n",
       "\\hline\n",
       "\t t3.nano  & 2 &  6 & 0.5 & EBS-Only & Up to 5 &  & Up to 3.1 GHz Intel Xeon Platinum Processor, Intel AVX†, Intel AVX2†, Intel Turbo & 2\\\\\n",
       "\t t3.micro & 2 & 12 & 1.0 & EBS-Only & Up to 5 &  & Up to 3.1 GHz Intel Xeon Platinum Processor, Intel AVX†, Intel AVX2†, Intel Turbo & 2\\\\\n",
       "\t t3.small & 2 & 24 & 2.0 & EBS-Only & Up to 5 &  & Up to 3.1 GHz Intel Xeon Platinum Processor, Intel AVX†, Intel AVX2†, Intel Turbo & 2\\\\\n",
       "\\end{tabular}\n"
      ],
      "text/markdown": [
       "\n",
       "A data.table: 3 × 9\n",
       "\n",
       "| Instance &lt;chr&gt; | vCPU* &lt;chr&gt; | CPU Credits/hour &lt;int&gt; | Mem (GiB) &lt;dbl&gt; | Storage &lt;chr&gt; | Network Performance (Gbps)*** &lt;chr&gt; | EBS Bandwidth (Gbps) &lt;chr&gt; | Processor &lt;chr&gt; | cpu &lt;dbl&gt; |\n",
       "|---|---|---|---|---|---|---|---|---|\n",
       "| t3.nano  | 2 |  6 | 0.5 | EBS-Only | Up to 5 | <!----> | Up to 3.1 GHz Intel Xeon Platinum Processor, Intel AVX†, Intel AVX2†, Intel Turbo | 2 |\n",
       "| t3.micro | 2 | 12 | 1.0 | EBS-Only | Up to 5 | <!----> | Up to 3.1 GHz Intel Xeon Platinum Processor, Intel AVX†, Intel AVX2†, Intel Turbo | 2 |\n",
       "| t3.small | 2 | 24 | 2.0 | EBS-Only | Up to 5 | <!----> | Up to 3.1 GHz Intel Xeon Platinum Processor, Intel AVX†, Intel AVX2†, Intel Turbo | 2 |\n",
       "\n"
      ],
      "text/plain": [
       "  Instance vCPU* CPU Credits/hour Mem (GiB) Storage \n",
       "1 t3.nano  2      6               0.5       EBS-Only\n",
       "2 t3.micro 2     12               1.0       EBS-Only\n",
       "3 t3.small 2     24               2.0       EBS-Only\n",
       "  Network Performance (Gbps)*** EBS Bandwidth (Gbps)\n",
       "1 Up to 5                                           \n",
       "2 Up to 5                                           \n",
       "3 Up to 5                                           \n",
       "  Processor                                                                        \n",
       "1 Up to 3.1 GHz Intel Xeon Platinum Processor, Intel AVX†, Intel AVX2†, Intel Turbo\n",
       "2 Up to 3.1 GHz Intel Xeon Platinum Processor, Intel AVX†, Intel AVX2†, Intel Turbo\n",
       "3 Up to 3.1 GHz Intel Xeon Platinum Processor, Intel AVX†, Intel AVX2†, Intel Turbo\n",
       "  cpu\n",
       "1 2  \n",
       "2 2  \n",
       "3 2  "
      ]
     },
     "metadata": {},
     "output_type": "display_data"
    }
   ],
   "source": [
    "prices = fread('aws_instance_pricing/pricing1.csv')\n",
    "prices[, cpu := as.numeric(`vCPU*`)]\n",
    "prices[1:3]"
   ]
  },
  {
   "cell_type": "code",
   "execution_count": 12,
   "metadata": {},
   "outputs": [
    {
     "name": "stderr",
     "output_type": "stream",
     "text": [
      "Warning message in eval(jsub, SDenv, parent.frame()):\n",
      "“NAs introduced by coercion”\n"
     ]
    },
    {
     "data": {
      "text/html": [
       "<table class=\"dataframe\">\n",
       "<caption>A data.table: 3 × 4</caption>\n",
       "<thead>\n",
       "\t<tr><th scope=col>Instance</th><th scope=col>Cost</th><th scope=col>Windows</th><th scope=col>cost2</th></tr>\n",
       "\t<tr><th scope=col>&lt;chr&gt;</th><th scope=col>&lt;chr&gt;</th><th scope=col>&lt;chr&gt;</th><th scope=col>&lt;dbl&gt;</th></tr>\n",
       "</thead>\n",
       "<tbody>\n",
       "\t<tr><td>a1.medium</td><td>$0.0049 per Hour</td><td>N/A*</td><td>0.0049</td></tr>\n",
       "\t<tr><td>a1.large </td><td>$0.0098 per Hour</td><td>N/A*</td><td>0.0098</td></tr>\n",
       "\t<tr><td>a1.xlarge</td><td>$0.0197 per Hour</td><td>N/A*</td><td>0.0197</td></tr>\n",
       "</tbody>\n",
       "</table>\n"
      ],
      "text/latex": [
       "A data.table: 3 × 4\n",
       "\\begin{tabular}{llll}\n",
       " Instance & Cost & Windows & cost2\\\\\n",
       " <chr> & <chr> & <chr> & <dbl>\\\\\n",
       "\\hline\n",
       "\t a1.medium & \\$0.0049 per Hour & N/A* & 0.0049\\\\\n",
       "\t a1.large  & \\$0.0098 per Hour & N/A* & 0.0098\\\\\n",
       "\t a1.xlarge & \\$0.0197 per Hour & N/A* & 0.0197\\\\\n",
       "\\end{tabular}\n"
      ],
      "text/markdown": [
       "\n",
       "A data.table: 3 × 4\n",
       "\n",
       "| Instance &lt;chr&gt; | Cost &lt;chr&gt; | Windows &lt;chr&gt; | cost2 &lt;dbl&gt; |\n",
       "|---|---|---|---|\n",
       "| a1.medium | $0.0049 per Hour | N/A* | 0.0049 |\n",
       "| a1.large  | $0.0098 per Hour | N/A* | 0.0098 |\n",
       "| a1.xlarge | $0.0197 per Hour | N/A* | 0.0197 |\n",
       "\n"
      ],
      "text/plain": [
       "  Instance  Cost             Windows cost2 \n",
       "1 a1.medium $0.0049 per Hour N/A*    0.0049\n",
       "2 a1.large  $0.0098 per Hour N/A*    0.0098\n",
       "3 a1.xlarge $0.0197 per Hour N/A*    0.0197"
      ]
     },
     "metadata": {},
     "output_type": "display_data"
    }
   ],
   "source": [
    "spot = fread('aws_instance_pricing/spot_pricing_20211129.csv')\n",
    "spot[, cost2 := as.numeric(gsub('\\\\$','',gsub(' .*','',Cost)))]\n",
    "# spot[, cost2 := gsub('\\\\$','',gsub(' .*','',Cost))]\n",
    "spot[1:3]"
   ]
  },
  {
   "cell_type": "code",
   "execution_count": 16,
   "metadata": {},
   "outputs": [
    {
     "data": {
      "text/html": [
       "<table class=\"dataframe\">\n",
       "<caption>A data.table: 3 × 12</caption>\n",
       "<thead>\n",
       "\t<tr><th scope=col>Instance</th><th scope=col>Cost</th><th scope=col>Windows</th><th scope=col>cost2</th><th scope=col>vCPU*</th><th scope=col>CPU Credits/hour</th><th scope=col>Mem (GiB)</th><th scope=col>Storage</th><th scope=col>Network Performance (Gbps)***</th><th scope=col>EBS Bandwidth (Gbps)</th><th scope=col>Processor</th><th scope=col>cpu</th></tr>\n",
       "\t<tr><th scope=col>&lt;chr&gt;</th><th scope=col>&lt;chr&gt;</th><th scope=col>&lt;chr&gt;</th><th scope=col>&lt;dbl&gt;</th><th scope=col>&lt;chr&gt;</th><th scope=col>&lt;int&gt;</th><th scope=col>&lt;dbl&gt;</th><th scope=col>&lt;chr&gt;</th><th scope=col>&lt;chr&gt;</th><th scope=col>&lt;chr&gt;</th><th scope=col>&lt;chr&gt;</th><th scope=col>&lt;dbl&gt;</th></tr>\n",
       "</thead>\n",
       "<tbody>\n",
       "\t<tr><td>c5.12xlarge</td><td>$0.4854 per Hour</td><td>$2.6641 per Hour</td><td>0.4854</td><td>48</td><td> 96</td><td>NA</td><td>EBS-Only</td><td>12</td><td>9500 </td><td>Intel Xeon Scalable</td><td>48</td></tr>\n",
       "\t<tr><td>c5.18xlarge</td><td>$0.7032 per Hour</td><td>$3.9961 per Hour</td><td>0.7032</td><td>72</td><td>144</td><td>NA</td><td>EBS-Only</td><td>25</td><td>19000</td><td>Intel Xeon Scalable</td><td>72</td></tr>\n",
       "\t<tr><td>c5.24xlarge</td><td>$0.9234 per Hour</td><td>$5.3282 per Hour</td><td>0.9234</td><td>96</td><td>192</td><td>NA</td><td>EBS-Only</td><td>25</td><td>19000</td><td>Intel Xeon Scalable</td><td>96</td></tr>\n",
       "</tbody>\n",
       "</table>\n"
      ],
      "text/latex": [
       "A data.table: 3 × 12\n",
       "\\begin{tabular}{llllllllllll}\n",
       " Instance & Cost & Windows & cost2 & vCPU* & CPU Credits/hour & Mem (GiB) & Storage & Network Performance (Gbps)*** & EBS Bandwidth (Gbps) & Processor & cpu\\\\\n",
       " <chr> & <chr> & <chr> & <dbl> & <chr> & <int> & <dbl> & <chr> & <chr> & <chr> & <chr> & <dbl>\\\\\n",
       "\\hline\n",
       "\t c5.12xlarge & \\$0.4854 per Hour & \\$2.6641 per Hour & 0.4854 & 48 &  96 & NA & EBS-Only & 12 & 9500  & Intel Xeon Scalable & 48\\\\\n",
       "\t c5.18xlarge & \\$0.7032 per Hour & \\$3.9961 per Hour & 0.7032 & 72 & 144 & NA & EBS-Only & 25 & 19000 & Intel Xeon Scalable & 72\\\\\n",
       "\t c5.24xlarge & \\$0.9234 per Hour & \\$5.3282 per Hour & 0.9234 & 96 & 192 & NA & EBS-Only & 25 & 19000 & Intel Xeon Scalable & 96\\\\\n",
       "\\end{tabular}\n"
      ],
      "text/markdown": [
       "\n",
       "A data.table: 3 × 12\n",
       "\n",
       "| Instance &lt;chr&gt; | Cost &lt;chr&gt; | Windows &lt;chr&gt; | cost2 &lt;dbl&gt; | vCPU* &lt;chr&gt; | CPU Credits/hour &lt;int&gt; | Mem (GiB) &lt;dbl&gt; | Storage &lt;chr&gt; | Network Performance (Gbps)*** &lt;chr&gt; | EBS Bandwidth (Gbps) &lt;chr&gt; | Processor &lt;chr&gt; | cpu &lt;dbl&gt; |\n",
       "|---|---|---|---|---|---|---|---|---|---|---|---|\n",
       "| c5.12xlarge | $0.4854 per Hour | $2.6641 per Hour | 0.4854 | 48 |  96 | NA | EBS-Only | 12 | 9500  | Intel Xeon Scalable | 48 |\n",
       "| c5.18xlarge | $0.7032 per Hour | $3.9961 per Hour | 0.7032 | 72 | 144 | NA | EBS-Only | 25 | 19000 | Intel Xeon Scalable | 72 |\n",
       "| c5.24xlarge | $0.9234 per Hour | $5.3282 per Hour | 0.9234 | 96 | 192 | NA | EBS-Only | 25 | 19000 | Intel Xeon Scalable | 96 |\n",
       "\n"
      ],
      "text/plain": [
       "  Instance    Cost             Windows          cost2  vCPU* CPU Credits/hour\n",
       "1 c5.12xlarge $0.4854 per Hour $2.6641 per Hour 0.4854 48     96             \n",
       "2 c5.18xlarge $0.7032 per Hour $3.9961 per Hour 0.7032 72    144             \n",
       "3 c5.24xlarge $0.9234 per Hour $5.3282 per Hour 0.9234 96    192             \n",
       "  Mem (GiB) Storage  Network Performance (Gbps)*** EBS Bandwidth (Gbps)\n",
       "1 NA        EBS-Only 12                            9500                \n",
       "2 NA        EBS-Only 25                            19000               \n",
       "3 NA        EBS-Only 25                            19000               \n",
       "  Processor           cpu\n",
       "1 Intel Xeon Scalable 48 \n",
       "2 Intel Xeon Scalable 72 \n",
       "3 Intel Xeon Scalable 96 "
      ]
     },
     "metadata": {},
     "output_type": "display_data"
    }
   ],
   "source": [
    "m = merge(spot, prices, by='Instance')\n",
    "m[1:3]"
   ]
  },
  {
   "cell_type": "code",
   "execution_count": 18,
   "metadata": {},
   "outputs": [
    {
     "data": {
      "text/html": [
       "<table class=\"dataframe\">\n",
       "<caption>A data.table: 5 × 13</caption>\n",
       "<thead>\n",
       "\t<tr><th scope=col>Instance</th><th scope=col>Cost</th><th scope=col>Windows</th><th scope=col>cost2</th><th scope=col>vCPU*</th><th scope=col>CPU Credits/hour</th><th scope=col>Mem (GiB)</th><th scope=col>Storage</th><th scope=col>Network Performance (Gbps)***</th><th scope=col>EBS Bandwidth (Gbps)</th><th scope=col>Processor</th><th scope=col>cpu</th><th scope=col>cost_per_cpu</th></tr>\n",
       "\t<tr><th scope=col>&lt;chr&gt;</th><th scope=col>&lt;chr&gt;</th><th scope=col>&lt;chr&gt;</th><th scope=col>&lt;dbl&gt;</th><th scope=col>&lt;chr&gt;</th><th scope=col>&lt;int&gt;</th><th scope=col>&lt;dbl&gt;</th><th scope=col>&lt;chr&gt;</th><th scope=col>&lt;chr&gt;</th><th scope=col>&lt;chr&gt;</th><th scope=col>&lt;chr&gt;</th><th scope=col>&lt;dbl&gt;</th><th scope=col>&lt;dbl&gt;</th></tr>\n",
       "</thead>\n",
       "<tbody>\n",
       "\t<tr><td>t3.nano  </td><td>$0.0016 per Hour</td><td>$0.0062 per Hour</td><td>0.0016</td><td>2</td><td> 6</td><td>0.5</td><td>EBS-Only</td><td>Up to 5</td><td></td><td>Up to 3.1 GHz Intel Xeon Platinum Processor, Intel AVX†, Intel AVX2†, Intel Turbo</td><td>2</td><td>0.00080</td></tr>\n",
       "\t<tr><td>t3a.nano </td><td>$0.0016 per Hour</td><td>$0.006 per Hour </td><td>0.0016</td><td>2</td><td> 6</td><td>0.5</td><td>EBS-Only</td><td>Up to 5</td><td></td><td>AMD EPYC 7000 series processors with an all core turbo clock speed of 2.5 GHz    </td><td>2</td><td>0.00080</td></tr>\n",
       "\t<tr><td>t3a.micro</td><td>$0.003 per Hour </td><td>$0.012 per Hour </td><td>0.0030</td><td>2</td><td>12</td><td>1.0</td><td>EBS-Only</td><td>Up to 5</td><td></td><td>AMD EPYC 7000 series processors with an all core turbo clock speed of 2.5 GHz    </td><td>2</td><td>0.00150</td></tr>\n",
       "\t<tr><td>t3.micro </td><td>$0.0031 per Hour</td><td>$0.0123 per Hour</td><td>0.0031</td><td>2</td><td>12</td><td>1.0</td><td>EBS-Only</td><td>Up to 5</td><td></td><td>Up to 3.1 GHz Intel Xeon Platinum Processor, Intel AVX†, Intel AVX2†, Intel Turbo</td><td>2</td><td>0.00155</td></tr>\n",
       "\t<tr><td>t3a.small</td><td>$0.0056 per Hour</td><td>$0.024 per Hour </td><td>0.0056</td><td>2</td><td>24</td><td>2.0</td><td>EBS-Only</td><td>Up to 5</td><td></td><td>AMD EPYC 7000 series processors with an all core turbo clock speed of 2.5 GHz    </td><td>2</td><td>0.00280</td></tr>\n",
       "</tbody>\n",
       "</table>\n"
      ],
      "text/latex": [
       "A data.table: 5 × 13\n",
       "\\begin{tabular}{lllllllllllll}\n",
       " Instance & Cost & Windows & cost2 & vCPU* & CPU Credits/hour & Mem (GiB) & Storage & Network Performance (Gbps)*** & EBS Bandwidth (Gbps) & Processor & cpu & cost\\_per\\_cpu\\\\\n",
       " <chr> & <chr> & <chr> & <dbl> & <chr> & <int> & <dbl> & <chr> & <chr> & <chr> & <chr> & <dbl> & <dbl>\\\\\n",
       "\\hline\n",
       "\t t3.nano   & \\$0.0016 per Hour & \\$0.0062 per Hour & 0.0016 & 2 &  6 & 0.5 & EBS-Only & Up to 5 &  & Up to 3.1 GHz Intel Xeon Platinum Processor, Intel AVX†, Intel AVX2†, Intel Turbo & 2 & 0.00080\\\\\n",
       "\t t3a.nano  & \\$0.0016 per Hour & \\$0.006 per Hour  & 0.0016 & 2 &  6 & 0.5 & EBS-Only & Up to 5 &  & AMD EPYC 7000 series processors with an all core turbo clock speed of 2.5 GHz     & 2 & 0.00080\\\\\n",
       "\t t3a.micro & \\$0.003 per Hour  & \\$0.012 per Hour  & 0.0030 & 2 & 12 & 1.0 & EBS-Only & Up to 5 &  & AMD EPYC 7000 series processors with an all core turbo clock speed of 2.5 GHz     & 2 & 0.00150\\\\\n",
       "\t t3.micro  & \\$0.0031 per Hour & \\$0.0123 per Hour & 0.0031 & 2 & 12 & 1.0 & EBS-Only & Up to 5 &  & Up to 3.1 GHz Intel Xeon Platinum Processor, Intel AVX†, Intel AVX2†, Intel Turbo & 2 & 0.00155\\\\\n",
       "\t t3a.small & \\$0.0056 per Hour & \\$0.024 per Hour  & 0.0056 & 2 & 24 & 2.0 & EBS-Only & Up to 5 &  & AMD EPYC 7000 series processors with an all core turbo clock speed of 2.5 GHz     & 2 & 0.00280\\\\\n",
       "\\end{tabular}\n"
      ],
      "text/markdown": [
       "\n",
       "A data.table: 5 × 13\n",
       "\n",
       "| Instance &lt;chr&gt; | Cost &lt;chr&gt; | Windows &lt;chr&gt; | cost2 &lt;dbl&gt; | vCPU* &lt;chr&gt; | CPU Credits/hour &lt;int&gt; | Mem (GiB) &lt;dbl&gt; | Storage &lt;chr&gt; | Network Performance (Gbps)*** &lt;chr&gt; | EBS Bandwidth (Gbps) &lt;chr&gt; | Processor &lt;chr&gt; | cpu &lt;dbl&gt; | cost_per_cpu &lt;dbl&gt; |\n",
       "|---|---|---|---|---|---|---|---|---|---|---|---|---|\n",
       "| t3.nano   | $0.0016 per Hour | $0.0062 per Hour | 0.0016 | 2 |  6 | 0.5 | EBS-Only | Up to 5 | <!----> | Up to 3.1 GHz Intel Xeon Platinum Processor, Intel AVX†, Intel AVX2†, Intel Turbo | 2 | 0.00080 |\n",
       "| t3a.nano  | $0.0016 per Hour | $0.006 per Hour  | 0.0016 | 2 |  6 | 0.5 | EBS-Only | Up to 5 | <!----> | AMD EPYC 7000 series processors with an all core turbo clock speed of 2.5 GHz     | 2 | 0.00080 |\n",
       "| t3a.micro | $0.003 per Hour  | $0.012 per Hour  | 0.0030 | 2 | 12 | 1.0 | EBS-Only | Up to 5 | <!----> | AMD EPYC 7000 series processors with an all core turbo clock speed of 2.5 GHz     | 2 | 0.00150 |\n",
       "| t3.micro  | $0.0031 per Hour | $0.0123 per Hour | 0.0031 | 2 | 12 | 1.0 | EBS-Only | Up to 5 | <!----> | Up to 3.1 GHz Intel Xeon Platinum Processor, Intel AVX†, Intel AVX2†, Intel Turbo | 2 | 0.00155 |\n",
       "| t3a.small | $0.0056 per Hour | $0.024 per Hour  | 0.0056 | 2 | 24 | 2.0 | EBS-Only | Up to 5 | <!----> | AMD EPYC 7000 series processors with an all core turbo clock speed of 2.5 GHz     | 2 | 0.00280 |\n",
       "\n"
      ],
      "text/plain": [
       "  Instance  Cost             Windows          cost2  vCPU* CPU Credits/hour\n",
       "1 t3.nano   $0.0016 per Hour $0.0062 per Hour 0.0016 2      6              \n",
       "2 t3a.nano  $0.0016 per Hour $0.006 per Hour  0.0016 2      6              \n",
       "3 t3a.micro $0.003 per Hour  $0.012 per Hour  0.0030 2     12              \n",
       "4 t3.micro  $0.0031 per Hour $0.0123 per Hour 0.0031 2     12              \n",
       "5 t3a.small $0.0056 per Hour $0.024 per Hour  0.0056 2     24              \n",
       "  Mem (GiB) Storage  Network Performance (Gbps)*** EBS Bandwidth (Gbps)\n",
       "1 0.5       EBS-Only Up to 5                                           \n",
       "2 0.5       EBS-Only Up to 5                                           \n",
       "3 1.0       EBS-Only Up to 5                                           \n",
       "4 1.0       EBS-Only Up to 5                                           \n",
       "5 2.0       EBS-Only Up to 5                                           \n",
       "  Processor                                                                        \n",
       "1 Up to 3.1 GHz Intel Xeon Platinum Processor, Intel AVX†, Intel AVX2†, Intel Turbo\n",
       "2 AMD EPYC 7000 series processors with an all core turbo clock speed of 2.5 GHz    \n",
       "3 AMD EPYC 7000 series processors with an all core turbo clock speed of 2.5 GHz    \n",
       "4 Up to 3.1 GHz Intel Xeon Platinum Processor, Intel AVX†, Intel AVX2†, Intel Turbo\n",
       "5 AMD EPYC 7000 series processors with an all core turbo clock speed of 2.5 GHz    \n",
       "  cpu cost_per_cpu\n",
       "1 2   0.00080     \n",
       "2 2   0.00080     \n",
       "3 2   0.00150     \n",
       "4 2   0.00155     \n",
       "5 2   0.00280     "
      ]
     },
     "metadata": {},
     "output_type": "display_data"
    }
   ],
   "source": [
    "m[, cost_per_cpu := cost2/cpu]\n",
    "m[order(cost_per_cpu)][1:5]"
   ]
  },
  {
   "cell_type": "code",
   "execution_count": 19,
   "metadata": {},
   "outputs": [
    {
     "data": {
      "text/html": [
       "<table class=\"dataframe\">\n",
       "<caption>A data.table: 5 × 13</caption>\n",
       "<thead>\n",
       "\t<tr><th scope=col>Instance</th><th scope=col>Cost</th><th scope=col>Windows</th><th scope=col>cost2</th><th scope=col>vCPU*</th><th scope=col>CPU Credits/hour</th><th scope=col>RAM</th><th scope=col>Storage</th><th scope=col>Network Performance (Gbps)***</th><th scope=col>EBS Bandwidth (Gbps)</th><th scope=col>Processor</th><th scope=col>cpu</th><th scope=col>cost_per_cpu</th></tr>\n",
       "\t<tr><th scope=col>&lt;chr&gt;</th><th scope=col>&lt;chr&gt;</th><th scope=col>&lt;chr&gt;</th><th scope=col>&lt;dbl&gt;</th><th scope=col>&lt;chr&gt;</th><th scope=col>&lt;int&gt;</th><th scope=col>&lt;dbl&gt;</th><th scope=col>&lt;chr&gt;</th><th scope=col>&lt;chr&gt;</th><th scope=col>&lt;chr&gt;</th><th scope=col>&lt;chr&gt;</th><th scope=col>&lt;dbl&gt;</th><th scope=col>&lt;dbl&gt;</th></tr>\n",
       "</thead>\n",
       "<tbody>\n",
       "\t<tr><td>t3a.medium</td><td>$0.0113 per Hour</td><td>$0.0297 per Hour</td><td>0.0113</td><td>2</td><td>24</td><td>4</td><td>EBS-Only</td><td>Up to 5        </td><td></td><td>AMD EPYC 7000 series processors with an all core turbo clock speed of 2.5 GHz    </td><td>2</td><td>0.00565</td></tr>\n",
       "\t<tr><td>t3.medium </td><td>$0.0125 per Hour</td><td>$0.0309 per Hour</td><td>0.0125</td><td>2</td><td>24</td><td>4</td><td>EBS-Only</td><td>Up to 5        </td><td></td><td>Up to 3.1 GHz Intel Xeon Platinum Processor, Intel AVX†, Intel AVX2†, Intel Turbo</td><td>2</td><td>0.00625</td></tr>\n",
       "\t<tr><td>t2.small  </td><td>$0.0069 per Hour</td><td>$0.0159 per Hour</td><td>0.0069</td><td>1</td><td>12</td><td>2</td><td>EBS-Only</td><td>Low to Moderate</td><td></td><td>3.3 GHz Intel Scalable Processor                                                 </td><td>1</td><td>0.00690</td></tr>\n",
       "\t<tr><td>t2.medium </td><td>$0.0139 per Hour</td><td>$0.0319 per Hour</td><td>0.0139</td><td>2</td><td>24</td><td>4</td><td>EBS-Only</td><td>Low to Moderate</td><td></td><td>3.3 GHz Intel Scalable Processor                                                 </td><td>2</td><td>0.00695</td></tr>\n",
       "\t<tr><td>t3a.large </td><td>$0.0226 per Hour</td><td>$0.0502 per Hour</td><td>0.0226</td><td>2</td><td>36</td><td>8</td><td>EBS-Only</td><td>Up to 5        </td><td></td><td>AMD EPYC 7000 series processors with an all core turbo clock speed of 2.5 GHz    </td><td>2</td><td>0.01130</td></tr>\n",
       "</tbody>\n",
       "</table>\n"
      ],
      "text/latex": [
       "A data.table: 5 × 13\n",
       "\\begin{tabular}{lllllllllllll}\n",
       " Instance & Cost & Windows & cost2 & vCPU* & CPU Credits/hour & RAM & Storage & Network Performance (Gbps)*** & EBS Bandwidth (Gbps) & Processor & cpu & cost\\_per\\_cpu\\\\\n",
       " <chr> & <chr> & <chr> & <dbl> & <chr> & <int> & <dbl> & <chr> & <chr> & <chr> & <chr> & <dbl> & <dbl>\\\\\n",
       "\\hline\n",
       "\t t3a.medium & \\$0.0113 per Hour & \\$0.0297 per Hour & 0.0113 & 2 & 24 & 4 & EBS-Only & Up to 5         &  & AMD EPYC 7000 series processors with an all core turbo clock speed of 2.5 GHz     & 2 & 0.00565\\\\\n",
       "\t t3.medium  & \\$0.0125 per Hour & \\$0.0309 per Hour & 0.0125 & 2 & 24 & 4 & EBS-Only & Up to 5         &  & Up to 3.1 GHz Intel Xeon Platinum Processor, Intel AVX†, Intel AVX2†, Intel Turbo & 2 & 0.00625\\\\\n",
       "\t t2.small   & \\$0.0069 per Hour & \\$0.0159 per Hour & 0.0069 & 1 & 12 & 2 & EBS-Only & Low to Moderate &  & 3.3 GHz Intel Scalable Processor                                                  & 1 & 0.00690\\\\\n",
       "\t t2.medium  & \\$0.0139 per Hour & \\$0.0319 per Hour & 0.0139 & 2 & 24 & 4 & EBS-Only & Low to Moderate &  & 3.3 GHz Intel Scalable Processor                                                  & 2 & 0.00695\\\\\n",
       "\t t3a.large  & \\$0.0226 per Hour & \\$0.0502 per Hour & 0.0226 & 2 & 36 & 8 & EBS-Only & Up to 5         &  & AMD EPYC 7000 series processors with an all core turbo clock speed of 2.5 GHz     & 2 & 0.01130\\\\\n",
       "\\end{tabular}\n"
      ],
      "text/markdown": [
       "\n",
       "A data.table: 5 × 13\n",
       "\n",
       "| Instance &lt;chr&gt; | Cost &lt;chr&gt; | Windows &lt;chr&gt; | cost2 &lt;dbl&gt; | vCPU* &lt;chr&gt; | CPU Credits/hour &lt;int&gt; | RAM &lt;dbl&gt; | Storage &lt;chr&gt; | Network Performance (Gbps)*** &lt;chr&gt; | EBS Bandwidth (Gbps) &lt;chr&gt; | Processor &lt;chr&gt; | cpu &lt;dbl&gt; | cost_per_cpu &lt;dbl&gt; |\n",
       "|---|---|---|---|---|---|---|---|---|---|---|---|---|\n",
       "| t3a.medium | $0.0113 per Hour | $0.0297 per Hour | 0.0113 | 2 | 24 | 4 | EBS-Only | Up to 5         | <!----> | AMD EPYC 7000 series processors with an all core turbo clock speed of 2.5 GHz     | 2 | 0.00565 |\n",
       "| t3.medium  | $0.0125 per Hour | $0.0309 per Hour | 0.0125 | 2 | 24 | 4 | EBS-Only | Up to 5         | <!----> | Up to 3.1 GHz Intel Xeon Platinum Processor, Intel AVX†, Intel AVX2†, Intel Turbo | 2 | 0.00625 |\n",
       "| t2.small   | $0.0069 per Hour | $0.0159 per Hour | 0.0069 | 1 | 12 | 2 | EBS-Only | Low to Moderate | <!----> | 3.3 GHz Intel Scalable Processor                                                  | 1 | 0.00690 |\n",
       "| t2.medium  | $0.0139 per Hour | $0.0319 per Hour | 0.0139 | 2 | 24 | 4 | EBS-Only | Low to Moderate | <!----> | 3.3 GHz Intel Scalable Processor                                                  | 2 | 0.00695 |\n",
       "| t3a.large  | $0.0226 per Hour | $0.0502 per Hour | 0.0226 | 2 | 36 | 8 | EBS-Only | Up to 5         | <!----> | AMD EPYC 7000 series processors with an all core turbo clock speed of 2.5 GHz     | 2 | 0.01130 |\n",
       "\n"
      ],
      "text/plain": [
       "  Instance   Cost             Windows          cost2  vCPU* CPU Credits/hour\n",
       "1 t3a.medium $0.0113 per Hour $0.0297 per Hour 0.0113 2     24              \n",
       "2 t3.medium  $0.0125 per Hour $0.0309 per Hour 0.0125 2     24              \n",
       "3 t2.small   $0.0069 per Hour $0.0159 per Hour 0.0069 1     12              \n",
       "4 t2.medium  $0.0139 per Hour $0.0319 per Hour 0.0139 2     24              \n",
       "5 t3a.large  $0.0226 per Hour $0.0502 per Hour 0.0226 2     36              \n",
       "  RAM Storage  Network Performance (Gbps)*** EBS Bandwidth (Gbps)\n",
       "1 4   EBS-Only Up to 5                                           \n",
       "2 4   EBS-Only Up to 5                                           \n",
       "3 2   EBS-Only Low to Moderate                                   \n",
       "4 4   EBS-Only Low to Moderate                                   \n",
       "5 8   EBS-Only Up to 5                                           \n",
       "  Processor                                                                        \n",
       "1 AMD EPYC 7000 series processors with an all core turbo clock speed of 2.5 GHz    \n",
       "2 Up to 3.1 GHz Intel Xeon Platinum Processor, Intel AVX†, Intel AVX2†, Intel Turbo\n",
       "3 3.3 GHz Intel Scalable Processor                                                 \n",
       "4 3.3 GHz Intel Scalable Processor                                                 \n",
       "5 AMD EPYC 7000 series processors with an all core turbo clock speed of 2.5 GHz    \n",
       "  cpu cost_per_cpu\n",
       "1 2   0.00565     \n",
       "2 2   0.00625     \n",
       "3 1   0.00690     \n",
       "4 2   0.00695     \n",
       "5 2   0.01130     "
      ]
     },
     "metadata": {},
     "output_type": "display_data"
    }
   ],
   "source": [
    "setnames(m, 'Mem (GiB)', 'RAM')\n",
    "m[RAM/cpu >= 2][order(cost_per_cpu)][1:5]"
   ]
  },
  {
   "cell_type": "code",
   "execution_count": 20,
   "metadata": {},
   "outputs": [
    {
     "data": {
      "text/html": [
       "<table class=\"dataframe\">\n",
       "<caption>A data.table: 5 × 13</caption>\n",
       "<thead>\n",
       "\t<tr><th scope=col>Instance</th><th scope=col>Cost</th><th scope=col>Windows</th><th scope=col>cost2</th><th scope=col>vCPU*</th><th scope=col>CPU Credits/hour</th><th scope=col>RAM</th><th scope=col>Storage</th><th scope=col>Network Performance (Gbps)***</th><th scope=col>EBS Bandwidth (Gbps)</th><th scope=col>Processor</th><th scope=col>cpu</th><th scope=col>cost_per_cpu</th></tr>\n",
       "\t<tr><th scope=col>&lt;chr&gt;</th><th scope=col>&lt;chr&gt;</th><th scope=col>&lt;chr&gt;</th><th scope=col>&lt;dbl&gt;</th><th scope=col>&lt;chr&gt;</th><th scope=col>&lt;int&gt;</th><th scope=col>&lt;dbl&gt;</th><th scope=col>&lt;chr&gt;</th><th scope=col>&lt;chr&gt;</th><th scope=col>&lt;chr&gt;</th><th scope=col>&lt;chr&gt;</th><th scope=col>&lt;dbl&gt;</th><th scope=col>&lt;dbl&gt;</th></tr>\n",
       "</thead>\n",
       "<tbody>\n",
       "\t<tr><td>t3a.large  </td><td>$0.0226 per Hour</td><td>$0.0502 per Hour</td><td>0.0226</td><td>2</td><td> 36</td><td> 8</td><td>EBS-Only</td><td>Up to 5</td><td></td><td>AMD EPYC 7000 series processors with an all core turbo clock speed of 2.5 GHz    </td><td>2</td><td>0.011300</td></tr>\n",
       "\t<tr><td>t3a.xlarge </td><td>$0.0458 per Hour</td><td>$0.1187 per Hour</td><td>0.0458</td><td>4</td><td> 96</td><td>16</td><td>EBS-Only</td><td>Up to 5</td><td></td><td>AMD EPYC 7000 series processors with an all core turbo clock speed of 2.5 GHz    </td><td>4</td><td>0.011450</td></tr>\n",
       "\t<tr><td>t3a.2xlarge</td><td>$0.093 per Hour </td><td>$0.2374 per Hour</td><td>0.0930</td><td>8</td><td>192</td><td>32</td><td>EBS-Only</td><td>Up to 5</td><td></td><td>AMD EPYC 7000 series processors with an all core turbo clock speed of 2.5 GHz    </td><td>8</td><td>0.011625</td></tr>\n",
       "\t<tr><td>t3.2xlarge </td><td>$0.0998 per Hour</td><td>$0.247 per Hour </td><td>0.0998</td><td>8</td><td>192</td><td>32</td><td>EBS-Only</td><td>Up to 5</td><td></td><td>Up to 3.1 GHz Intel Xeon Platinum Processor, Intel AVX†, Intel AVX2†, Intel Turbo</td><td>8</td><td>0.012475</td></tr>\n",
       "\t<tr><td>t3.xlarge  </td><td>$0.0499 per Hour</td><td>$0.1235 per Hour</td><td>0.0499</td><td>4</td><td> 96</td><td>16</td><td>EBS-Only</td><td>Up to 5</td><td></td><td>Up to 3.1 GHz Intel Xeon Platinum Processor, Intel AVX†, Intel AVX2†, Intel Turbo</td><td>4</td><td>0.012475</td></tr>\n",
       "</tbody>\n",
       "</table>\n"
      ],
      "text/latex": [
       "A data.table: 5 × 13\n",
       "\\begin{tabular}{lllllllllllll}\n",
       " Instance & Cost & Windows & cost2 & vCPU* & CPU Credits/hour & RAM & Storage & Network Performance (Gbps)*** & EBS Bandwidth (Gbps) & Processor & cpu & cost\\_per\\_cpu\\\\\n",
       " <chr> & <chr> & <chr> & <dbl> & <chr> & <int> & <dbl> & <chr> & <chr> & <chr> & <chr> & <dbl> & <dbl>\\\\\n",
       "\\hline\n",
       "\t t3a.large   & \\$0.0226 per Hour & \\$0.0502 per Hour & 0.0226 & 2 &  36 &  8 & EBS-Only & Up to 5 &  & AMD EPYC 7000 series processors with an all core turbo clock speed of 2.5 GHz     & 2 & 0.011300\\\\\n",
       "\t t3a.xlarge  & \\$0.0458 per Hour & \\$0.1187 per Hour & 0.0458 & 4 &  96 & 16 & EBS-Only & Up to 5 &  & AMD EPYC 7000 series processors with an all core turbo clock speed of 2.5 GHz     & 4 & 0.011450\\\\\n",
       "\t t3a.2xlarge & \\$0.093 per Hour  & \\$0.2374 per Hour & 0.0930 & 8 & 192 & 32 & EBS-Only & Up to 5 &  & AMD EPYC 7000 series processors with an all core turbo clock speed of 2.5 GHz     & 8 & 0.011625\\\\\n",
       "\t t3.2xlarge  & \\$0.0998 per Hour & \\$0.247 per Hour  & 0.0998 & 8 & 192 & 32 & EBS-Only & Up to 5 &  & Up to 3.1 GHz Intel Xeon Platinum Processor, Intel AVX†, Intel AVX2†, Intel Turbo & 8 & 0.012475\\\\\n",
       "\t t3.xlarge   & \\$0.0499 per Hour & \\$0.1235 per Hour & 0.0499 & 4 &  96 & 16 & EBS-Only & Up to 5 &  & Up to 3.1 GHz Intel Xeon Platinum Processor, Intel AVX†, Intel AVX2†, Intel Turbo & 4 & 0.012475\\\\\n",
       "\\end{tabular}\n"
      ],
      "text/markdown": [
       "\n",
       "A data.table: 5 × 13\n",
       "\n",
       "| Instance &lt;chr&gt; | Cost &lt;chr&gt; | Windows &lt;chr&gt; | cost2 &lt;dbl&gt; | vCPU* &lt;chr&gt; | CPU Credits/hour &lt;int&gt; | RAM &lt;dbl&gt; | Storage &lt;chr&gt; | Network Performance (Gbps)*** &lt;chr&gt; | EBS Bandwidth (Gbps) &lt;chr&gt; | Processor &lt;chr&gt; | cpu &lt;dbl&gt; | cost_per_cpu &lt;dbl&gt; |\n",
       "|---|---|---|---|---|---|---|---|---|---|---|---|---|\n",
       "| t3a.large   | $0.0226 per Hour | $0.0502 per Hour | 0.0226 | 2 |  36 |  8 | EBS-Only | Up to 5 | <!----> | AMD EPYC 7000 series processors with an all core turbo clock speed of 2.5 GHz     | 2 | 0.011300 |\n",
       "| t3a.xlarge  | $0.0458 per Hour | $0.1187 per Hour | 0.0458 | 4 |  96 | 16 | EBS-Only | Up to 5 | <!----> | AMD EPYC 7000 series processors with an all core turbo clock speed of 2.5 GHz     | 4 | 0.011450 |\n",
       "| t3a.2xlarge | $0.093 per Hour  | $0.2374 per Hour | 0.0930 | 8 | 192 | 32 | EBS-Only | Up to 5 | <!----> | AMD EPYC 7000 series processors with an all core turbo clock speed of 2.5 GHz     | 8 | 0.011625 |\n",
       "| t3.2xlarge  | $0.0998 per Hour | $0.247 per Hour  | 0.0998 | 8 | 192 | 32 | EBS-Only | Up to 5 | <!----> | Up to 3.1 GHz Intel Xeon Platinum Processor, Intel AVX†, Intel AVX2†, Intel Turbo | 8 | 0.012475 |\n",
       "| t3.xlarge   | $0.0499 per Hour | $0.1235 per Hour | 0.0499 | 4 |  96 | 16 | EBS-Only | Up to 5 | <!----> | Up to 3.1 GHz Intel Xeon Platinum Processor, Intel AVX†, Intel AVX2†, Intel Turbo | 4 | 0.012475 |\n",
       "\n"
      ],
      "text/plain": [
       "  Instance    Cost             Windows          cost2  vCPU* CPU Credits/hour\n",
       "1 t3a.large   $0.0226 per Hour $0.0502 per Hour 0.0226 2      36             \n",
       "2 t3a.xlarge  $0.0458 per Hour $0.1187 per Hour 0.0458 4      96             \n",
       "3 t3a.2xlarge $0.093 per Hour  $0.2374 per Hour 0.0930 8     192             \n",
       "4 t3.2xlarge  $0.0998 per Hour $0.247 per Hour  0.0998 8     192             \n",
       "5 t3.xlarge   $0.0499 per Hour $0.1235 per Hour 0.0499 4      96             \n",
       "  RAM Storage  Network Performance (Gbps)*** EBS Bandwidth (Gbps)\n",
       "1  8  EBS-Only Up to 5                                           \n",
       "2 16  EBS-Only Up to 5                                           \n",
       "3 32  EBS-Only Up to 5                                           \n",
       "4 32  EBS-Only Up to 5                                           \n",
       "5 16  EBS-Only Up to 5                                           \n",
       "  Processor                                                                        \n",
       "1 AMD EPYC 7000 series processors with an all core turbo clock speed of 2.5 GHz    \n",
       "2 AMD EPYC 7000 series processors with an all core turbo clock speed of 2.5 GHz    \n",
       "3 AMD EPYC 7000 series processors with an all core turbo clock speed of 2.5 GHz    \n",
       "4 Up to 3.1 GHz Intel Xeon Platinum Processor, Intel AVX†, Intel AVX2†, Intel Turbo\n",
       "5 Up to 3.1 GHz Intel Xeon Platinum Processor, Intel AVX†, Intel AVX2†, Intel Turbo\n",
       "  cpu cost_per_cpu\n",
       "1 2   0.011300    \n",
       "2 4   0.011450    \n",
       "3 8   0.011625    \n",
       "4 8   0.012475    \n",
       "5 4   0.012475    "
      ]
     },
     "metadata": {},
     "output_type": "display_data"
    }
   ],
   "source": [
    "m[RAM/cpu >= 4][order(cost_per_cpu)][1:5]"
   ]
  },
  {
   "cell_type": "code",
   "execution_count": null,
   "metadata": {},
   "outputs": [],
   "source": []
  }
 ],
 "metadata": {
  "interpreter": {
   "hash": "d8c0ad78633a8b43965fe5f8bc8a2da663397bf1cf3d05244bf937683be8c88a"
  },
  "kernelspec": {
   "display_name": "R",
   "language": "R",
   "name": "ir"
  },
  "language_info": {
   "codemirror_mode": "r",
   "file_extension": ".r",
   "mimetype": "text/x-r-source",
   "name": "R",
   "pygments_lexer": "r",
   "version": "4.1.0"
  },
  "orig_nbformat": 4
 },
 "nbformat": 4,
 "nbformat_minor": 2
}
