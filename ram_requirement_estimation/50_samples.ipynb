{
 "cells": [
  {
   "cell_type": "code",
   "execution_count": 1,
   "metadata": {},
   "outputs": [],
   "source": [
    "library(data.table)\n",
    "library(ggplot2)"
   ]
  },
  {
   "cell_type": "code",
   "execution_count": 8,
   "metadata": {},
   "outputs": [
    {
     "data": {
      "text/html": [
       "<table class=\"dataframe\">\n",
       "<caption>A data.table: 3 × 2</caption>\n",
       "<thead>\n",
       "\t<tr><th scope=col>V1</th><th scope=col>ram_kb</th></tr>\n",
       "\t<tr><th scope=col>&lt;chr&gt;</th><th scope=col>&lt;int&gt;</th></tr>\n",
       "</thead>\n",
       "<tbody>\n",
       "\t<tr><td>singlem-4krq6-SRR10617119/max_rss</td><td>184888</td></tr>\n",
       "\t<tr><td>singlem-4xbr6-SRR531672/max_rss  </td><td>187968</td></tr>\n",
       "\t<tr><td>singlem-6cgc2-SRR9966528/max_rss </td><td>240156</td></tr>\n",
       "</tbody>\n",
       "</table>\n"
      ],
      "text/latex": [
       "A data.table: 3 × 2\n",
       "\\begin{tabular}{ll}\n",
       " V1 & ram\\_kb\\\\\n",
       " <chr> & <int>\\\\\n",
       "\\hline\n",
       "\t singlem-4krq6-SRR10617119/max\\_rss & 184888\\\\\n",
       "\t singlem-4xbr6-SRR531672/max\\_rss   & 187968\\\\\n",
       "\t singlem-6cgc2-SRR9966528/max\\_rss  & 240156\\\\\n",
       "\\end{tabular}\n"
      ],
      "text/markdown": [
       "\n",
       "A data.table: 3 × 2\n",
       "\n",
       "| V1 &lt;chr&gt; | ram_kb &lt;int&gt; |\n",
       "|---|---|\n",
       "| singlem-4krq6-SRR10617119/max_rss | 184888 |\n",
       "| singlem-4xbr6-SRR531672/max_rss   | 187968 |\n",
       "| singlem-6cgc2-SRR9966528/max_rss  | 240156 |\n",
       "\n"
      ],
      "text/plain": [
       "  V1                                ram_kb\n",
       "1 singlem-4krq6-SRR10617119/max_rss 184888\n",
       "2 singlem-4xbr6-SRR531672/max_rss   187968\n",
       "3 singlem-6cgc2-SRR9966528/max_rss  240156"
      ]
     },
     "metadata": {},
     "output_type": "display_data"
    }
   ],
   "source": [
    "ram = fread('50_samples_max_rss.grep', sep=':')\n",
    "d = fread('50_samples.acc_mbases_mbytes.tsv')\n",
    "setnames(ram, 'V2','ram_kb')\n",
    "setnames(d, c('acc','mbases','mbytes'))\n",
    "ram[1:3]"
   ]
  },
  {
   "cell_type": "code",
   "execution_count": 9,
   "metadata": {},
   "outputs": [
    {
     "data": {
      "text/html": [
       "<table class=\"dataframe\">\n",
       "<caption>A data.table: 3 × 3</caption>\n",
       "<thead>\n",
       "\t<tr><th scope=col>V1</th><th scope=col>ram_kb</th><th scope=col>acc</th></tr>\n",
       "\t<tr><th scope=col>&lt;chr&gt;</th><th scope=col>&lt;int&gt;</th><th scope=col>&lt;chr&gt;</th></tr>\n",
       "</thead>\n",
       "<tbody>\n",
       "\t<tr><td>singlem-4krq6-SRR10617119/max_rss</td><td>184888</td><td>SRR10617119</td></tr>\n",
       "\t<tr><td>singlem-4xbr6-SRR531672/max_rss  </td><td>187968</td><td>SRR531672  </td></tr>\n",
       "\t<tr><td>singlem-6cgc2-SRR9966528/max_rss </td><td>240156</td><td>SRR9966528 </td></tr>\n",
       "</tbody>\n",
       "</table>\n"
      ],
      "text/latex": [
       "A data.table: 3 × 3\n",
       "\\begin{tabular}{lll}\n",
       " V1 & ram\\_kb & acc\\\\\n",
       " <chr> & <int> & <chr>\\\\\n",
       "\\hline\n",
       "\t singlem-4krq6-SRR10617119/max\\_rss & 184888 & SRR10617119\\\\\n",
       "\t singlem-4xbr6-SRR531672/max\\_rss   & 187968 & SRR531672  \\\\\n",
       "\t singlem-6cgc2-SRR9966528/max\\_rss  & 240156 & SRR9966528 \\\\\n",
       "\\end{tabular}\n"
      ],
      "text/markdown": [
       "\n",
       "A data.table: 3 × 3\n",
       "\n",
       "| V1 &lt;chr&gt; | ram_kb &lt;int&gt; | acc &lt;chr&gt; |\n",
       "|---|---|---|\n",
       "| singlem-4krq6-SRR10617119/max_rss | 184888 | SRR10617119 |\n",
       "| singlem-4xbr6-SRR531672/max_rss   | 187968 | SRR531672   |\n",
       "| singlem-6cgc2-SRR9966528/max_rss  | 240156 | SRR9966528  |\n",
       "\n"
      ],
      "text/plain": [
       "  V1                                ram_kb acc        \n",
       "1 singlem-4krq6-SRR10617119/max_rss 184888 SRR10617119\n",
       "2 singlem-4xbr6-SRR531672/max_rss   187968 SRR531672  \n",
       "3 singlem-6cgc2-SRR9966528/max_rss  240156 SRR9966528 "
      ]
     },
     "metadata": {},
     "output_type": "display_data"
    }
   ],
   "source": [
    "ram[, acc := gsub('.*\\\\-','',gsub('/max_rss','',V1))]\n",
    "ram[1:3]"
   ]
  },
  {
   "cell_type": "code",
   "execution_count": 10,
   "metadata": {},
   "outputs": [
    {
     "data": {
      "text/html": [
       "<table class=\"dataframe\">\n",
       "<caption>A data.table: 3 × 3</caption>\n",
       "<thead>\n",
       "\t<tr><th scope=col>acc</th><th scope=col>mbases</th><th scope=col>mbytes</th></tr>\n",
       "\t<tr><th scope=col>&lt;chr&gt;</th><th scope=col>&lt;int&gt;</th><th scope=col>&lt;int&gt;</th></tr>\n",
       "</thead>\n",
       "<tbody>\n",
       "\t<tr><td>ERR2738607</td><td> 808</td><td> 483</td></tr>\n",
       "\t<tr><td>SRR8427863</td><td>2434</td><td>1647</td></tr>\n",
       "\t<tr><td>SRR9212111</td><td>3564</td><td>1167</td></tr>\n",
       "</tbody>\n",
       "</table>\n"
      ],
      "text/latex": [
       "A data.table: 3 × 3\n",
       "\\begin{tabular}{lll}\n",
       " acc & mbases & mbytes\\\\\n",
       " <chr> & <int> & <int>\\\\\n",
       "\\hline\n",
       "\t ERR2738607 &  808 &  483\\\\\n",
       "\t SRR8427863 & 2434 & 1647\\\\\n",
       "\t SRR9212111 & 3564 & 1167\\\\\n",
       "\\end{tabular}\n"
      ],
      "text/markdown": [
       "\n",
       "A data.table: 3 × 3\n",
       "\n",
       "| acc &lt;chr&gt; | mbases &lt;int&gt; | mbytes &lt;int&gt; |\n",
       "|---|---|---|\n",
       "| ERR2738607 |  808 |  483 |\n",
       "| SRR8427863 | 2434 | 1647 |\n",
       "| SRR9212111 | 3564 | 1167 |\n",
       "\n"
      ],
      "text/plain": [
       "  acc        mbases mbytes\n",
       "1 ERR2738607  808    483  \n",
       "2 SRR8427863 2434   1647  \n",
       "3 SRR9212111 3564   1167  "
      ]
     },
     "metadata": {},
     "output_type": "display_data"
    }
   ],
   "source": [
    "d[1:3]"
   ]
  },
  {
   "cell_type": "code",
   "execution_count": 12,
   "metadata": {},
   "outputs": [
    {
     "data": {
      "text/html": [
       "<table class=\"dataframe\">\n",
       "<caption>A data.table: 3 × 4</caption>\n",
       "<thead>\n",
       "\t<tr><th scope=col>acc</th><th scope=col>mbases</th><th scope=col>mbytes</th><th scope=col>ram_kb</th></tr>\n",
       "\t<tr><th scope=col>&lt;chr&gt;</th><th scope=col>&lt;int&gt;</th><th scope=col>&lt;int&gt;</th><th scope=col>&lt;int&gt;</th></tr>\n",
       "</thead>\n",
       "<tbody>\n",
       "\t<tr><td>ERR2560573</td><td>2130</td><td> 827</td><td>233428</td></tr>\n",
       "\t<tr><td>ERR2738607</td><td> 808</td><td> 483</td><td>195224</td></tr>\n",
       "\t<tr><td>ERR3192203</td><td>3892</td><td>1788</td><td>267164</td></tr>\n",
       "</tbody>\n",
       "</table>\n"
      ],
      "text/latex": [
       "A data.table: 3 × 4\n",
       "\\begin{tabular}{llll}\n",
       " acc & mbases & mbytes & ram\\_kb\\\\\n",
       " <chr> & <int> & <int> & <int>\\\\\n",
       "\\hline\n",
       "\t ERR2560573 & 2130 &  827 & 233428\\\\\n",
       "\t ERR2738607 &  808 &  483 & 195224\\\\\n",
       "\t ERR3192203 & 3892 & 1788 & 267164\\\\\n",
       "\\end{tabular}\n"
      ],
      "text/markdown": [
       "\n",
       "A data.table: 3 × 4\n",
       "\n",
       "| acc &lt;chr&gt; | mbases &lt;int&gt; | mbytes &lt;int&gt; | ram_kb &lt;int&gt; |\n",
       "|---|---|---|---|\n",
       "| ERR2560573 | 2130 |  827 | 233428 |\n",
       "| ERR2738607 |  808 |  483 | 195224 |\n",
       "| ERR3192203 | 3892 | 1788 | 267164 |\n",
       "\n"
      ],
      "text/plain": [
       "  acc        mbases mbytes ram_kb\n",
       "1 ERR2560573 2130    827   233428\n",
       "2 ERR2738607  808    483   195224\n",
       "3 ERR3192203 3892   1788   267164"
      ]
     },
     "metadata": {},
     "output_type": "display_data"
    }
   ],
   "source": [
    "m = merge(d, ram[,.(ram_kb,acc)], by='acc')\n",
    "m[1:3]"
   ]
  },
  {
   "cell_type": "code",
   "execution_count": 25,
   "metadata": {},
   "outputs": [
    {
     "data": {
      "image/png": "[encoded data removed]",
      "text/plain": [
       "plot without title"
      ]
     },
     "metadata": {
      "image/png": {
       "height": 420,
       "width": 420
      }
     },
     "output_type": "display_data"
    }
   ],
   "source": [
    "qplot(data=m, mbases/1024, ram_kb/1024, ylim=c(0,1000))+geom_abline(slope=3000/50, intercept=500)"
   ]
  },
  {
   "cell_type": "code",
   "execution_count": 24,
   "metadata": {},
   "outputs": [
    {
     "data": {
      "image/png": "[encoded data removed]",
      "text/plain": [
       "plot without title"
      ]
     },
     "metadata": {
      "image/png": {
       "height": 420,
       "width": 420
      }
     },
     "output_type": "display_data"
    }
   ],
   "source": [
    "qplot(data=m, mbases/1024, ram_kb/1024, ylim=c(0,3500), xlim=c(0,55))+geom_abline(slope=3000/50, intercept=500)"
   ]
  },
  {
   "cell_type": "code",
   "execution_count": null,
   "metadata": {},
   "outputs": [],
   "source": [
    "# => so settle on ram_kb = (mbases/1024*3000/50 + 500) * 1024"
   ]
  }
 ],
 "metadata": {
  "kernelspec": {
   "display_name": "R",
   "language": "R",
   "name": "ir"
  },
  "language_info": {
   "codemirror_mode": "r",
   "file_extension": ".r",
   "mimetype": "text/x-r-source",
   "name": "R",
   "pygments_lexer": "r",
   "version": "4.1.0"
  },
  "orig_nbformat": 4
 },
 "nbformat": 4,
 "nbformat_minor": 2
}
