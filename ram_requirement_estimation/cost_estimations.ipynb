{
 "cells": [
  {
   "cell_type": "code",
   "execution_count": 26,
   "metadata": {},
   "outputs": [],
   "source": [
    "library(data.table)"
   ]
  },
  {
   "cell_type": "code",
   "execution_count": 34,
   "metadata": {},
   "outputs": [
    {
     "data": {
      "text/html": [
       "2482100"
      ],
      "text/latex": [
       "2482100"
      ],
      "text/markdown": [
       "2482100"
      ],
      "text/plain": [
       "[1] 2482100"
      ]
     },
     "metadata": {},
     "output_type": "display_data"
    }
   ],
   "source": [
    "sampled50_mbases = fread(\"grep mbases ../cue/create-argo-batch/runlists/sra_20111130_1_sample500.cue |awk '{print $2}'\")\n",
    "sum(sampled50_mbases$V1)"
   ]
  },
  {
   "cell_type": "code",
   "execution_count": 41,
   "metadata": {},
   "outputs": [
    {
     "data": {
      "text/html": [
       "1548028935"
      ],
      "text/latex": [
       "1548028935"
      ],
      "text/markdown": [
       "1548028935"
      ],
      "text/plain": [
       "[1] 1548028935"
      ]
     },
     "metadata": {},
     "output_type": "display_data"
    }
   ],
   "source": [
    "# ./consolidate_json.py --input-json <(jq -n '[inputs]' ./runs/sra_20111130/*) --nickname blah |grep mbases |awk '{print $2}' >sra_20111130_mbases\n",
    "# mv sra_20111130_mbases ram_requirement_estimation/\n",
    "total_mbases = fread('sra_20111130_mbases')\n",
    "sum(total_mbases$V1)"
   ]
  },
  {
   "cell_type": "code",
   "execution_count": 42,
   "metadata": {},
   "outputs": [
    {
     "data": {
      "text/html": [
       "1871.03130615205"
      ],
      "text/latex": [
       "1871.03130615205"
      ],
      "text/markdown": [
       "1871.03130615205"
      ],
      "text/plain": [
       "[1] 1871.031"
      ]
     },
     "metadata": {},
     "output_type": "display_data"
    }
   ],
   "source": [
    "sum(total_mbases$V1)/sum(sampled50_mbases$V1) *3"
   ]
  },
  {
   "cell_type": "code",
   "execution_count": null,
   "metadata": {},
   "outputs": [],
   "source": []
  }
 ],
 "metadata": {
  "kernelspec": {
   "display_name": "ir",
   "language": "",
   "name": "ir"
  },
  "language_info": {
   "codemirror_mode": "r",
   "file_extension": ".r",
   "mimetype": "text/x-r-source",
   "name": "R",
   "pygments_lexer": "r",
   "version": "4.1.0"
  },
  "orig_nbformat": 4
 },
 "nbformat": 4,
 "nbformat_minor": 2
}
