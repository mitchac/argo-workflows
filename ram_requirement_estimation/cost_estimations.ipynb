{
 "cells": [
  {
   "cell_type": "code",
   "execution_count": 26,
   "metadata": {},
   "outputs": [],
   "source": [
    "library(data.table)"
   ]
  },
  {
   "cell_type": "code",
   "execution_count": 30,
   "metadata": {},
   "outputs": [
    {
     "data": {
      "text/html": [
       "127121"
      ],
      "text/latex": [
       "127121"
      ],
      "text/markdown": [
       "127121"
      ],
      "text/plain": [
       "[1] 127121"
      ]
     },
     "metadata": {},
     "output_type": "display_data"
    }
   ],
   "source": [
    "sampled50_mbases = fread(\"grep mbases ../cue/create-argo-batch/runlists/sra_20111130_1_sample500.cue |awk '{print $2}'\")\n",
    "sum(sampled50_mbases$V1)"
   ]
  },
  {
   "cell_type": "code",
   "execution_count": 31,
   "metadata": {},
   "outputs": [
    {
     "data": {
      "text/html": [
       "2482100"
      ],
      "text/latex": [
       "2482100"
      ],
      "text/markdown": [
       "2482100"
      ],
      "text/plain": [
       "[1] 2482100"
      ]
     },
     "metadata": {},
     "output_type": "display_data"
    }
   ],
   "source": [
    "total_mbases = fread(\"grep mbases ../cue/create-argo-batch/runlists/sra_20111130_1_sample500.cue |awk '{print $2}'\")\n",
    "sum(total_mbases)"
   ]
  },
  {
   "cell_type": "code",
   "execution_count": 33,
   "metadata": {},
   "outputs": [
    {
     "data": {
      "text/html": [
       "58.5764743826748"
      ],
      "text/latex": [
       "58.5764743826748"
      ],
      "text/markdown": [
       "58.5764743826748"
      ],
      "text/plain": [
       "[1] 58.57647"
      ]
     },
     "metadata": {},
     "output_type": "display_data"
    }
   ],
   "source": [
    "sum(total_mbases$V1)/sum(sampled50_mbases$V1) *3"
   ]
  },
  {
   "cell_type": "code",
   "execution_count": null,
   "metadata": {},
   "outputs": [],
   "source": []
  }
 ],
 "metadata": {
  "kernelspec": {
   "display_name": "ir",
   "language": "",
   "name": "ir"
  },
  "language_info": {
   "codemirror_mode": "r",
   "file_extension": ".r",
   "mimetype": "text/x-r-source",
   "name": "R",
   "pygments_lexer": "r",
   "version": "4.1.0"
  },
  "orig_nbformat": 4
 },
 "nbformat": 4,
 "nbformat_minor": 2
}
